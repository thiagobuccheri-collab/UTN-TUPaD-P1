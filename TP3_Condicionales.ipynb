{
 "cells": [
  {
   "cell_type": "markdown",
   "id": "5e5bc68c",
   "metadata": {},
   "source": [
    "TRABAJO PRACTICO 3 ESTRUCTURA CONDICIONALES "
   ]
  },
  {
   "cell_type": "markdown",
   "id": "ecdb66c3",
   "metadata": {},
   "source": [
    "THIAGO BUCCHERI\n"
   ]
  },
  {
   "cell_type": "markdown",
   "id": "a345d28b",
   "metadata": {},
   "source": [
    "1) Escribir un programa que solicite la edad del usuario. Si el usuario es mayor de 18 años,\n",
    "deberá mostrar un mensaje en pantalla que diga “Es mayor de edad”."
   ]
  },
  {
   "cell_type": "code",
   "execution_count": 1,
   "id": "55d17580",
   "metadata": {},
   "outputs": [
    {
     "name": "stdout",
     "output_type": "stream",
     "text": [
      "Es mayor de edad.\n"
     ]
    }
   ],
   "source": [
    "edad = int (input(\"Ingrese su edad: \"))\n",
    "if edad >= 18:\n",
    "    print (\"Es mayor de edad.\")\n",
    "else:\n",
    "         print(\"Es menor de edad\")"
   ]
  },
  {
   "cell_type": "markdown",
   "id": "588254de",
   "metadata": {},
   "source": [
    "2) Escribir un programa que solicite su nota al usuario. Si la nota es mayor o igual a 6, deberá\n",
    "mostrar por pantalla un mensaje que diga “Aprobado”; en caso contrario deberá mostrar el\n",
    "mensaje “Desaprobado”.\n"
   ]
  },
  {
   "cell_type": "code",
   "execution_count": 3,
   "id": "00627a1e",
   "metadata": {},
   "outputs": [
    {
     "name": "stdout",
     "output_type": "stream",
     "text": [
      "Desaprobado\n"
     ]
    }
   ],
   "source": [
    "nota = int (input(\"Ingrese su nota: \"))\n",
    "if nota >=6 :\n",
    "    print(\"Aprobado\")\n",
    "else:\n",
    "    print(\"Desaprobado\")"
   ]
  },
  {
   "cell_type": "markdown",
   "id": "1a742aa8",
   "metadata": {},
   "source": [
    "3) Escribir un programa que permita ingresar solo números pares. Si el usuario ingresa un\n",
    "número par, imprimir por en pantalla el mensaje \"Ha ingresado un número par\"; en caso\n",
    "contrario, imprimir por pantalla \"Por favor, ingrese un número par\". Nota: investigar el uso del\n",
    "operador de módulo (%) en Python para evaluar si un número es par o impar.\n"
   ]
  },
  {
   "cell_type": "code",
   "execution_count": 15,
   "id": "7a94fa55",
   "metadata": {},
   "outputs": [
    {
     "name": "stdout",
     "output_type": "stream",
     "text": [
      "El numero es par\n"
     ]
    }
   ],
   "source": [
    "num = int(input(\"Ingrese un numero par.\"))\n",
    "if num%2 == 0:\n",
    "    print(\"El numero es par\")\n",
    "else: \n",
    "    print(\"Por favor ingrese un numero par\")"
   ]
  },
  {
   "cell_type": "markdown",
   "id": "cf30a494",
   "metadata": {},
   "source": [
    "4) Escribir un programa que solicite al usuario su edad e imprima por pantalla a cuál de las\n",
    "siguientes categorías pertenece:\n",
    "● Niño/a: menor de 12 años.\n",
    "● Adolescente: mayor o igual que 12 años y menor que 18 años.\n",
    "● Adulto/a joven: mayor o igual que 18 años y menor que 30 años.\n",
    "● Adulto/a: mayor o igual que 30 años.\n"
   ]
  },
  {
   "cell_type": "code",
   "execution_count": 18,
   "id": "8017b79f",
   "metadata": {},
   "outputs": [
    {
     "name": "stdout",
     "output_type": "stream",
     "text": [
      "Niño/a\n"
     ]
    }
   ],
   "source": [
    "edad= int (input(\"Ingrese su edad: \"))\n",
    "if edad >= 0 and edad < 12 :\n",
    "    print(\"Niño/a\")\n",
    "elif edad >= 12 and edad < 18 :\n",
    "    print(\"Adolescente\")\n",
    "elif edad >= 18 and edad < 30 :\n",
    "    print(\"Adulto/a joven\")\n",
    "elif edad >= 30 and edad < 120:\n",
    "    print(\"Adulto\")\n",
    "else :\n",
    "    print(\"Ingrese una edad valida\")"
   ]
  },
  {
   "cell_type": "markdown",
   "id": "361240ab",
   "metadata": {},
   "source": [
    "5) Escribir un programa que permita introducir contraseñas de entre 8 y 14 caracteres\n",
    "(incluyendo 8 y 14). Si el usuario ingresa una contraseña de longitud adecuada, imprimir por en\n",
    "pantalla el mensaje \"Ha ingresado una contraseña correcta\"; en caso contrario, imprimir por\n",
    "pantalla \"Por favor, ingrese una contraseña de entre 8 y 14 caracteres\". Nota: investigue el uso\n",
    "de la función len() en Python para evaluar la cantidad de elementos que tiene un iterable tal\n",
    "como una lista o un string.\n"
   ]
  },
  {
   "cell_type": "code",
   "execution_count": 21,
   "id": "9222edcb",
   "metadata": {},
   "outputs": [
    {
     "name": "stdout",
     "output_type": "stream",
     "text": [
      "Ha ingresado una contrasena correcta.\n"
     ]
    }
   ],
   "source": [
    "psw = input (\"Ingrese una contrasena de entre 8 y 14 caracteres: \")\n",
    "lpsw = int(len(psw))\n",
    "if lpsw >= 8 and lpsw <= 14:\n",
    "    print(\"Ha ingresado una contrasena correcta.\")\n",
    "else :\n",
    "    print(\"Por favor ingrese una contrasena entre 8 y 14 caracteres.\")"
   ]
  },
  {
   "cell_type": "markdown",
   "id": "e5a986a3",
   "metadata": {},
   "source": [
    "6) El paquete statistics de python contiene funciones que permiten tomar una lista de números\n",
    "y calcular la moda, la mediana y la media de dichos números. Un ejemplo de su uso es el\n",
    "siguiente:\n",
    "from statistics import mode, median, mean\n",
    "mi_lista = [1,2,5,5,3]\n",
    "mean(mi_lista)\n",
    "En la documentación oficial se puede encontrar más información sobre este paquete:\n",
    "https://docs.python.org/es/3.8/library/statistics.html.\n",
    "La moda (mode), la mediana (median) y la media (mean) son parámetros estadísticos que se\n",
    "pueden utilizar para predecir la forma de una distribución normal a partir del siguiente criterio:\n",
    "● Sesgo positivo o a la derecha: cuando la media es mayor que la mediana y, a su vez, la\n",
    "mediana es mayor que la moda.\n",
    "● Sesgo negativo o a la izquierda: cuando la media es menor que la mediana y, a su vez,\n",
    "la mediana es menor que la moda.\n",
    "● Sin sesgo: cuando la media, la mediana y la moda son iguales.\n",
    "Teniendo en cuenta lo antes mencionado, escribir un programa que tome la lista\n",
    "numeros_aleatorios, calcule su moda, su mediana y su media y las compare para determinar si\n",
    "hay sesgo positivo, negativo o no hay sesgo. Imprimir el resultado por pantalla.\n",
    "Definir la lista numeros_aleatorios de la siguiente forma:\n",
    "import random\n",
    "numeros_aleatorios = [random.randint(1, 100) for i in range(50)]\n",
    "Nota: el bloque de código anterior crea una lista con 50 números entre 1 y 100 elegidos de\n",
    "forma aleatoria"
   ]
  },
  {
   "cell_type": "code",
   "execution_count": null,
   "id": "7e04d87b",
   "metadata": {},
   "outputs": [
    {
     "name": "stdout",
     "output_type": "stream",
     "text": [
      "Media: 43.86 Moda: 59 mediana: 43.0\n",
      "Sin sesgo\n"
     ]
    }
   ],
   "source": [
    "import random\n",
    "num_aleatorios=[random.randint(1, 100) for i in range(50)]\n",
    "from statistics import mode, median, mean\n",
    "mean(num_aleatorios)\n",
    "media= mean(num_aleatorios)\n",
    "moda= mode(num_aleatorios)\n",
    "mediana= median(num_aleatorios)\n",
    "print (f\"Media:\" ,media, \"Moda:\",moda, \"mediana:\", mediana)\n",
    "if media > mediana and mediana > moda:\n",
    "    print(\"Sesgo positivo\")\n",
    "elif media < mediana and mediana < moda:\n",
    "    print(\"Sesgo negativo\")\n",
    "else :\n",
    "    print(\"Sin sesgo\")"
   ]
  },
  {
   "cell_type": "markdown",
   "id": "4f097938",
   "metadata": {},
   "source": [
    "7) Escribir un programa que solicite una frase o palabra al usuario. Si el string ingresado\n",
    "termina con vocal, añadir un signo de exclamación al final e imprimir el string resultante por\n",
    "pantalla; en caso contrario, dejar el string tal cual lo ingresó el usuario e imprimirlo por\n",
    "pantalla.\n"
   ]
  },
  {
   "cell_type": "code",
   "execution_count": 76,
   "id": "0dbe6822",
   "metadata": {},
   "outputs": [],
   "source": [
    "frase= input(\"Ingrese una frase o palabra:\")\n",
    "letraf =  frase[-1].lower\n",
    "if (letraf == 'a'):\n",
    " print (frase)\n",
    "\n"
   ]
  }
 ],
 "metadata": {
  "kernelspec": {
   "display_name": "Python 3",
   "language": "python",
   "name": "python3"
  },
  "language_info": {
   "codemirror_mode": {
    "name": "ipython",
    "version": 3
   },
   "file_extension": ".py",
   "mimetype": "text/x-python",
   "name": "python",
   "nbconvert_exporter": "python",
   "pygments_lexer": "ipython3",
   "version": "3.13.2"
  }
 },
 "nbformat": 4,
 "nbformat_minor": 5
}
